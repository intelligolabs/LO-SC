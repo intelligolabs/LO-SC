{
 "cells": [
  {
   "cell_type": "code",
   "execution_count": null,
   "metadata": {
    "colab": {
     "base_uri": "https://localhost:8080/"
    },
    "id": "lvtSAsjSKViJ",
    "outputId": "87aaf004-0067-4743-86e3-e9d8a4bd614e"
   },
   "outputs": [],
   "source": [
    "import os\n",
    "\n",
    "import matplotlib.pyplot as plt\n",
    "\n",
    "from ortools.sat.python import cp_model\n",
    "\n",
    "import src.plot_support as ps\n",
    "import src.data_structures as ds\n",
    "import src.optimizer as optimizer"
   ]
  },
  {
   "cell_type": "markdown",
   "metadata": {
    "id": "rqZVaqTPKY5R"
   },
   "source": [
    "# Create the data\n"
   ]
  },
  {
   "cell_type": "code",
   "execution_count": null,
   "metadata": {
    "id": "gmD02tfWKaQg"
   },
   "outputs": [],
   "source": [
    "# Initialize the layers.\n",
    "layers = [\n",
    "    ds.Layer(id=0, memory=3, runtime=1, output_size=1),\n",
    "    ds.Layer(id=1, memory=3, runtime=1, output_size=2),\n",
    "    ds.Layer(id=2, memory=3, runtime=1, output_size=2),\n",
    "]\n",
    "\n",
    "# Initialize the execution segments.\n",
    "segments = [\n",
    "    ds.Segment(id=0, avail_memory=6, avail_time=5),\n",
    "    ds.Segment(id=1, avail_memory=6, avail_time=5),\n",
    "    ds.Segment(id=2, avail_memory=6, avail_time=5),\n",
    "]"
   ]
  },
  {
   "cell_type": "markdown",
   "metadata": {
    "id": "TW8_TC2jKehR"
   },
   "source": [
    "# Run the optimizer"
   ]
  },
  {
   "cell_type": "code",
   "execution_count": null,
   "metadata": {},
   "outputs": [],
   "source": [
    "allocations = optimizer.minimize_output_size(layers, segments, True)\n",
    "ds.print_assignment_statistics(allocations)"
   ]
  },
  {
   "cell_type": "markdown",
   "metadata": {
    "id": "dIvkwWsVKsQk"
   },
   "source": [
    "# Run knapsack"
   ]
  },
  {
   "cell_type": "code",
   "execution_count": null,
   "metadata": {
    "colab": {
     "base_uri": "https://localhost:8080/",
     "height": 785
    },
    "id": "BM1Q4AMcKt4A",
    "outputId": "b0605627-4505-40f9-8c5b-119322835cc0"
   },
   "outputs": [],
   "source": [
    "knapsack = optimizer.knapsack(layers, segments, True)\n",
    "ds.print_assignment_statistics(knapsack)"
   ]
  },
  {
   "cell_type": "markdown",
   "metadata": {},
   "source": [
    "# Comparison"
   ]
  },
  {
   "cell_type": "code",
   "execution_count": null,
   "metadata": {},
   "outputs": [],
   "source": [
    "if not os.path.exists(\"figures\"):\n",
    "    os.mkdir(\"figures\")"
   ]
  },
  {
   "cell_type": "code",
   "execution_count": null,
   "metadata": {},
   "outputs": [],
   "source": [
    "_, ax = plt.subplots(1, 1, figsize=(3, 3))\n",
    "plt.rcParams.update({\"font.size\": 16})\n",
    "plt_losc = ps.plot_allocation(ax, allocations, label=\"LO-SC\")\n",
    "plt_knps = ps.plot_allocation(ax, knapsack, label=\"Knapsack\")\n",
    "plt_losc.set_marker(\"o\")\n",
    "plt_knps.set_linestyle(\"--\")\n",
    "plt_knps.set_marker(\"x\")\n",
    "ax.legend(loc=\"lower right\", frameon=True, handletextpad=0.1, handlelength=1, borderpad=0.2, labelspacing=0.2)\n",
    "plt.yticks([0, 1, 2], [\"1st\", \"2nd\", \"3rd\"])\n",
    "plt.xticks([0, 1], [\"1st\", \"2nd\"])\n",
    "# plt.tight_layout()\n",
    "plt.savefig(os.path.join(\"figures\", \"demonstrative_example_allocation.png\"), bbox_inches=\"tight\")\n",
    "plt.show()"
   ]
  },
  {
   "cell_type": "code",
   "execution_count": null,
   "metadata": {},
   "outputs": [],
   "source": [
    "_, ax = plt.subplots(1, 1, figsize=(3, 3))\n",
    "plt.rcParams.update({'font.size': 16})\n",
    "plt_losc = ps.plot_segments_output_memory(ax, allocations, label=\"LO-SC\", cumsum=False)\n",
    "plt_knps = ps.plot_segments_output_memory(ax, knapsack, label=\"Knapsack\", cumsum=False)\n",
    "plt_losc.set_marker('o')\n",
    "plt_knps.set_linestyle('--')\n",
    "plt_knps.set_marker('x')\n",
    "ax.set_yticks([0, 0.5, 1, 1.5, 2])\n",
    "plt.xticks([0, 1], [\"1st\", \"2nd\"])\n",
    "ax.legend(loc='lower right', frameon=True, handletextpad=0.1, handlelength=1, borderpad=0.2, labelspacing=0.2)\n",
    "plt.savefig(os.path.join(\"figures\", \"demonstrative_example_outmem.png\"), bbox_inches=\"tight\")\n",
    "plt.show()"
   ]
  }
 ],
 "metadata": {
  "colab": {
   "provenance": []
  },
  "kernelspec": {
   "display_name": "lo_sc",
   "language": "python",
   "name": "python3"
  },
  "language_info": {
   "codemirror_mode": {
    "name": "ipython",
    "version": 3
   },
   "file_extension": ".py",
   "mimetype": "text/x-python",
   "name": "python",
   "nbconvert_exporter": "python",
   "pygments_lexer": "ipython3",
   "version": "3.10.15"
  }
 },
 "nbformat": 4,
 "nbformat_minor": 0
}
