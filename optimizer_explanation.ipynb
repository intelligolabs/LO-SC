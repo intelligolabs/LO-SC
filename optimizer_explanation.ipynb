{
 "cells": [
  {
   "cell_type": "code",
   "execution_count": null,
   "metadata": {
    "colab": {
     "base_uri": "https://localhost:8080/"
    },
    "id": "lvtSAsjSKViJ",
    "outputId": "87aaf004-0067-4743-86e3-e9d8a4bd614e"
   },
   "outputs": [],
   "source": [
    "from src.data_structures import *\n",
    "from ortools.sat.python import cp_model"
   ]
  },
  {
   "cell_type": "markdown",
   "metadata": {
    "id": "rqZVaqTPKY5R"
   },
   "source": [
    "# Create the data\n",
    "\n",
    "Given a total of $L$ layers, we know the following information for each layer $l \\in [0 \\ldots L]$:\n",
    "\n",
    "- $m(l)$ = memory consumption of layer $l$;\n",
    "- $t(l)$ = execution time of layer $l$.\n",
    "- $o(l)$ : output memory size of layer $l$.\n",
    " \n",
    "Given a total of $S$ execution segments, we know the following information for each segment $s \\in [0 \\ldots S]$:\n",
    "\n",
    "- $M(s)$ = the available memory of segment $s$;\n",
    "- $R(s)$ = the available time of segment $s$.\n",
    " "
   ]
  },
  {
   "cell_type": "code",
   "execution_count": null,
   "metadata": {
    "id": "gmD02tfWKaQg"
   },
   "outputs": [],
   "source": [
    "# Initialize the layers.\n",
    "layers = [\n",
    "    Layer(id=0, memory=3, runtime=1, output_size=2),\n",
    "    Layer(id=1, memory=4, runtime=1, output_size=3),\n",
    "    Layer(id=2, memory=5, runtime=1, output_size=4),\n",
    "    Layer(id=3, memory=3, runtime=1, output_size=2),\n",
    "    Layer(id=4, memory=4, runtime=1, output_size=3),\n",
    "    Layer(id=5, memory=2, runtime=1, output_size=1),\n",
    "]\n",
    "\n",
    "# Initialize the execution segments.\n",
    "segments = [\n",
    "    Segment(id=0, avail_memory=12, avail_time=6),\n",
    "    Segment(id=1, avail_memory=8, avail_time=6),\n",
    "    Segment(id=2, avail_memory=6, avail_time=6),\n",
    "    Segment(id=3, avail_memory=12, avail_time=6),\n",
    "    Segment(id=4, avail_memory=4, avail_time=6),\n",
    "    Segment(id=5, avail_memory=5, avail_time=6),\n",
    "    Segment(id=6, avail_memory=6, avail_time=6),\n",
    "    Segment(id=7, avail_memory=8, avail_time=6)\n",
    "]\n",
    "\n",
    "# Pre-compute some sizes, and indices.\n",
    "num_layers = len(layers)\n",
    "all_layers = range(num_layers)\n",
    "num_segments = len(segments)\n",
    "all_segments = range(num_segments)\n",
    "max_output_size = max([layer.output_size for layer in layers])\n"
   ]
  },
  {
   "cell_type": "markdown",
   "metadata": {
    "id": "TW8_TC2jKehR"
   },
   "source": [
    "# Declare the MIP solver"
   ]
  },
  {
   "cell_type": "code",
   "execution_count": null,
   "metadata": {
    "id": "3AXAvptXKbCY"
   },
   "outputs": [],
   "source": [
    "model = cp_model.CpModel()"
   ]
  },
  {
   "cell_type": "markdown",
   "metadata": {
    "id": "WHg8MjwWKiGp"
   },
   "source": [
    "# Create the variables\n",
    "What follows is the list of decision variables for our problem.\n",
    "\n",
    "The first variable we define is $x$, which keeps track of where the layers are placed as follows:\n",
    "$$\n",
    "x[l, s] =\n",
    "\\begin{cases}\n",
    "1, & \\text{if layer $l$ is placed in segment $s$} \\\\\n",
    "0, & \\text{otherwise}\n",
    "\\end{cases}\\\\\n",
    "\\forall l \\in [0 \\ldots L], \\forall s \\in [0 \\ldots S]\n",
    "$$\n",
    "\n",
    "The second variables is $u$, which keeps track of wheter a segment is in use as follows:\n",
    "$$\n",
    "u[s] =\n",
    "\\begin{cases}\n",
    "1, & \\text{if segment $s$ contains at least a layer} \\\\\n",
    "0, & \\text{otherwise}\n",
    "\\end{cases}\\\\\n",
    "\\forall s \\in [0 \\ldots S]\n",
    "$$\n",
    "\n",
    "Then we define $i$, which contains the index of the last layer placed inside a segment as follows:\n",
    "$$\n",
    "0 \\leq i[s] \\leq L, \\qquad \\forall s \\in [0 \\ldots S]\n",
    "$$\n",
    "\n",
    "Finally, $y$ keeps track of the output size of the last layer placed inside a segment as follows:\n",
    "$$\n",
    "y[s] \\geq 0, \\qquad \\forall s \\in [0 \\ldots S]\n",
    "$$\n"
   ]
  },
  {
   "cell_type": "code",
   "execution_count": null,
   "metadata": {
    "id": "CSNRKfozKily"
   },
   "outputs": [],
   "source": [
    "# Initialize the decision variable x[l, s].\n",
    "x = {}\n",
    "for l in all_layers:\n",
    "    for s in all_segments:\n",
    "        x[l, s] = model.NewBoolVar(f\"x_{l}_{s}\")\n",
    "\n",
    "# Determines if a segment is in use.\n",
    "u = []\n",
    "for s in all_segments:\n",
    "    u.append(model.NewBoolVar(name=f\"u_{s}\"))\n",
    "\n",
    "# This decision variable will act as an index to the last layer placed in an\n",
    "# execution segment.\n",
    "i = []\n",
    "for s in all_segments:\n",
    "    i.append(model.NewIntVar(lb=0, ub=num_layers, name=f\"i_{s}\"))\n",
    "\n",
    "# This decision variable will be set to the output size of the last layer\n",
    "# placed in an execution segment.\n",
    "y = []\n",
    "_y = []\n",
    "for s in all_segments:\n",
    "    y.append(model.NewIntVar(lb=0, ub=max_output_size, name=f\"y_{s}\"))\n",
    "    _y.append(model.NewIntVar(lb=0, ub=max_output_size, name=f\"_y_{s}\"))\n",
    "\n",
    "# We assemble in an array the output sizes for all layers. We need the first\n",
    "# zero because the default value for the index i is 0, thus, by default it would\n",
    "# select the output size of the first layer. Even when no layer is placed inside\n",
    "# a segment.\n",
    "output_sizes = [layers[l].output_size for l in all_layers]\n"
   ]
  },
  {
   "cell_type": "markdown",
   "metadata": {
    "id": "kYCC1W4dKnkI"
   },
   "source": [
    "# Define the constraints\n",
    "The first constraint ensures that we place a layer in only one segment:\n",
    "$$\n",
    "    \\sum_{s=0}^{S} x[l, s] = 1\n",
    "    \\quad\n",
    "    \\forall l \\in [0 \\ldots L]\n",
    "$$\n",
    "\n",
    "The next constraint ensures that the total memory occupied by the layers placed inside a segment is lower than the segment's capacity:\n",
    "$$\n",
    "    \\sum_{l=0}^{L} x[l, s] \\cdot m(l) \\le M(s),\n",
    "    \\quad\n",
    "    \\forall s \\in [0 \\ldots S]\n",
    "$$\n",
    "\n",
    "The same applies for the runtime of a layer:\n",
    "$$\n",
    "    \\sum_{l=0}^{L} x[l, s] \\cdot t(l) \\le T(s),\n",
    "    \\quad\n",
    "    \\forall s \\in [0 \\ldots S]\n",
    "$$\n",
    "\n",
    "With the following constraint, $u$ becomes $true$ only if there are layers placed inside the given segment:\n",
    "$$\n",
    "    u[s] = \\max_{l \\in [0 \\ldots L]} \\quad x[l, s],\n",
    "    \\quad\n",
    "    \\forall s \\in [0 \\ldots S]\n",
    "$$\n",
    "Being $x$ a boolean variable, taking the maximum of a set of $x$ variables results in a boolean.\n",
    "\n",
    "The next constraints ensures that if we do not use a segment $s$, we are not going to use the next segments:\n",
    "$$\n",
    "    \\neg u[s] \\implies \\neg u[s + 1],\n",
    "    \\quad\n",
    "    \\forall s \\in [0 \\ldots S - 1]\n",
    "$$\n",
    "This ensures that the segments are incrementally used, from the first to the last, without jumps (e.g., using segments 0, 6, 12, and so forth).\n",
    "\n",
    "The next constraint ensures that we execute the layers of a neural network in an ordered fashion:\n",
    "$$\n",
    "    x[l_{1}, s_{1}] \\implies \\neg x[l_{2}, s_{2}],\\\\\n",
    "    \\forall s_{1} \\in [0 \\ldots S],\n",
    "    \\forall s_{2} \\in [s_{1} + 1 \\ldots S],\\\\\n",
    "    \\forall l_{1} \\in [0 \\ldots L],\n",
    "    \\forall l_{2} \\in [0 \\ldots l_{1}]\n",
    "$$\n",
    "To better understand this constraint, let us make an example with 4 layers and 4 segments:\n",
    "If layer 2 is placed in segment 2, the previous layers (i.e., 0 and 1) cannot be placed in the next execution segments (i.e., 3 and 4).\n",
    "\n",
    "We are going to keep track of the index of the last layer placed inside a segment, as follows:\n",
    "$$\n",
    "    i[s] = \\max_{l \\in [0 \\ldots L]} \\quad x[l, s] \\cdot l,\n",
    "    \\quad\n",
    "    \\forall s \\in [0 \\ldots S],\n",
    "$$\n",
    "\n",
    "Finally, we use the previously computed index, to get the actual output size of that layer, if and only if the execution segment is actually in use, as follows:\n",
    "$$\n",
    "    y[s] = o(i[s]) \\cdot u[s]\n",
    "    \\quad\n",
    "    \\forall s \\in [0 \\ldots S],\n",
    "$$"
   ]
  },
  {
   "cell_type": "code",
   "execution_count": null,
   "metadata": {
    "id": "KWUPSXAzKnHq"
   },
   "outputs": [],
   "source": [
    "# Each layer is assigned to exactly one execution segment.\n",
    "for l in all_layers:\n",
    "    model.AddExactlyOne(x[l, s] for s in all_segments)\n",
    "\n",
    "# The amount of occupied memory in each execution segment cannot exceed its memory.\n",
    "for s in all_segments:\n",
    "    model.Add(sum(x[l, s] * layers[l].memory for l in all_layers) <= segments[s].avail_memory)\n",
    "\n",
    "# The runtime for the layers executed in each execution segment cannot exceed its duration.\n",
    "for s in all_segments:\n",
    "    model.Add(sum(x[l, s] * layers[l].runtime for l in all_layers) <= segments[s].avail_time)\n",
    "\n",
    "# If there is even one layer assigned to a segment, u will be the max of a series\n",
    "# of zeros and a one.\n",
    "for s in all_segments:\n",
    "    model.AddMaxEquality(u[s], [x[l, s] for l in all_layers])\n",
    "\n",
    "# If later `s` is not used, then then next later cannot be in use.\n",
    "for s in range(0, num_segments - 1):\n",
    "    model.AddImplication(u[s].Not(), u[s + 1].Not())\n",
    "\n",
    "# The layers are placed in an ordered fashion inside the sequences.\n",
    "for s0 in all_segments:\n",
    "    for l0 in all_layers:\n",
    "        for s1 in range(s0 + 1, num_segments):\n",
    "            for l1 in range(0, l0):\n",
    "                model.AddImplication(x[l0, s0], x[l1, s1].Not())\n",
    "\n",
    "# The index variable, will be assigned the index of the last layer placed inside\n",
    "# a segment. We use (l + 1) because the first element at index 0, is a placeholder\n",
    "# of value 0.\n",
    "for s in all_segments:\n",
    "    model.AddMaxEquality(i[s], [x[l, s] * l for l in all_layers])\n",
    "\n",
    "# With this one, we basically implement:\n",
    "#   y[s] = output_sizes[i[s]] * u[s]\n",
    "# When writing a CP problem, we canno simply use a decision variable as index,\n",
    "# we need to do a couple of extra steps, as you might have noticed. Furthermore,\n",
    "# we conside the output size only if the segment is in use.\n",
    "for s in all_segments:\n",
    "    model.AddElement(i[s], output_sizes, _y[s])\n",
    "    model.AddMultiplicationEquality(y[s], [_y[s], u[s]])\n"
   ]
  },
  {
   "cell_type": "markdown",
   "metadata": {
    "id": "uatjZEiRKplg"
   },
   "source": [
    "# Define the objective and invoke the solver\n",
    "Now, our optimization function aims at minimizing the sum of the output size of the last layers placed inside the execution segments:\n",
    "$$\n",
    "    \\text{minimize}\\quad\\sum_{s \\in [0 \\ldots S]} y[s]\n",
    "$$"
   ]
  },
  {
   "cell_type": "code",
   "execution_count": null,
   "metadata": {
    "id": "axj-HFTkKrIb"
   },
   "outputs": [],
   "source": [
    "# The following code defines the objective function for the problem. In our case\n",
    "# we want to minimize the **memory to store** in memory by the **last layer**\n",
    "# placed **inside an execution segment**.\n",
    "model.Minimize(sum(y[s] for s in all_segments))\n",
    "\n",
    "# Create the solver and run it on the model.\n",
    "solver = cp_model.CpSolver()\n",
    "status = solver.Solve(model)\n",
    "\n",
    "if status != cp_model.OPTIMAL:\n",
    "    print(\"The problem does not have an optimal solution.\")\n",
    "    exit(1)\n",
    "\n",
    "# Initialize the solution.\n",
    "allocations = []\n",
    "for s in all_segments:\n",
    "    layers_in_segment = [layers[l] for l in all_layers if solver.Value(x[l, s])]\n",
    "    if layers_in_segment:\n",
    "        allocations.append(Allocation(segments[s], layers_in_segment))"
   ]
  },
  {
   "cell_type": "markdown",
   "metadata": {
    "id": "dIvkwWsVKsQk"
   },
   "source": [
    "# Print solution"
   ]
  },
  {
   "cell_type": "code",
   "execution_count": null,
   "metadata": {
    "colab": {
     "base_uri": "https://localhost:8080/",
     "height": 785
    },
    "id": "BM1Q4AMcKt4A",
    "outputId": "b0605627-4505-40f9-8c5b-119322835cc0"
   },
   "outputs": [],
   "source": [
    "print_assignment_statistics(allocations)"
   ]
  },
  {
   "cell_type": "markdown",
   "metadata": {},
   "source": [
    "# Compare to Knapsack"
   ]
  },
  {
   "cell_type": "code",
   "execution_count": null,
   "metadata": {},
   "outputs": [],
   "source": [
    "import matplotlib.pyplot as plt\n",
    "\n",
    "import src.optimizer as optimizer\n",
    "import src.plot_support as plotter"
   ]
  },
  {
   "cell_type": "code",
   "execution_count": null,
   "metadata": {},
   "outputs": [],
   "source": [
    "knapsack = optimizer.knapsack(layers, segments, True)\n",
    "print_assignment_statistics(knapsack)\n"
   ]
  }
 ],
 "metadata": {
  "colab": {
   "provenance": []
  },
  "kernelspec": {
   "display_name": "lo_sc",
   "language": "python",
   "name": "python3"
  },
  "language_info": {
   "codemirror_mode": {
    "name": "ipython",
    "version": 3
   },
   "file_extension": ".py",
   "mimetype": "text/x-python",
   "name": "python",
   "nbconvert_exporter": "python",
   "pygments_lexer": "ipython3",
   "version": "3.10.15"
  }
 },
 "nbformat": 4,
 "nbformat_minor": 0
}
